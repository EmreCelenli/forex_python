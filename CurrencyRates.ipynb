{
  "nbformat": 4,
  "nbformat_minor": 0,
  "metadata": {
    "colab": {
      "provenance": [],
      "authorship_tag": "ABX9TyOAI9y9bUfvZUpWM5gjIFok",
      "include_colab_link": true
    },
    "kernelspec": {
      "name": "python3",
      "display_name": "Python 3"
    },
    "language_info": {
      "name": "python"
    }
  },
  "cells": [
    {
      "cell_type": "markdown",
      "metadata": {
        "id": "view-in-github",
        "colab_type": "text"
      },
      "source": [
        "<a href=\"https://colab.research.google.com/github/EmreCelenli/forex_python/blob/main/CurrencyRates.ipynb\" target=\"_parent\"><img src=\"https://colab.research.google.com/assets/colab-badge.svg\" alt=\"Open In Colab\"/></a>"
      ]
    },
    {
      "cell_type": "markdown",
      "source": [
        "**Currency rates of USD, EUR and GBP from forex_python library.**\n",
        "\n",
        "User can decide the date (2000 - 2022) using the input commands on this program. \n",
        "\n",
        "Requirements = forex_python, datetime\n",
        "\n",
        "By Emre Celenli\n",
        "\n",
        "https://github.com/EmreCelenli"
      ],
      "metadata": {
        "id": "1IKzuRoX99sQ"
      }
    },
    {
      "cell_type": "code",
      "source": [
        "pip install forex_python"
      ],
      "metadata": {
        "colab": {
          "base_uri": "https://localhost:8080/"
        },
        "id": "iWZUWtRwo3lx",
        "outputId": "c2bd5667-d6b7-4876-b4a0-b84ded8237cb"
      },
      "execution_count": 2,
      "outputs": [
        {
          "output_type": "stream",
          "name": "stdout",
          "text": [
            "Looking in indexes: https://pypi.org/simple, https://us-python.pkg.dev/colab-wheels/public/simple/\n",
            "Collecting forex_python\n",
            "  Downloading forex_python-1.8-py3-none-any.whl (8.2 kB)\n",
            "Collecting simplejson\n",
            "  Downloading simplejson-3.18.0-cp37-cp37m-manylinux_2_5_x86_64.manylinux1_x86_64.manylinux_2_12_x86_64.manylinux2010_x86_64.whl (130 kB)\n",
            "\u001b[K     |████████████████████████████████| 130 kB 8.0 MB/s \n",
            "\u001b[?25hRequirement already satisfied: requests in /usr/local/lib/python3.7/dist-packages (from forex_python) (2.23.0)\n",
            "Requirement already satisfied: certifi>=2017.4.17 in /usr/local/lib/python3.7/dist-packages (from requests->forex_python) (2022.9.24)\n",
            "Requirement already satisfied: chardet<4,>=3.0.2 in /usr/local/lib/python3.7/dist-packages (from requests->forex_python) (3.0.4)\n",
            "Requirement already satisfied: idna<3,>=2.5 in /usr/local/lib/python3.7/dist-packages (from requests->forex_python) (2.10)\n",
            "Requirement already satisfied: urllib3!=1.25.0,!=1.25.1,<1.26,>=1.21.1 in /usr/local/lib/python3.7/dist-packages (from requests->forex_python) (1.24.3)\n",
            "Installing collected packages: simplejson, forex-python\n",
            "Successfully installed forex-python-1.8 simplejson-3.18.0\n"
          ]
        }
      ]
    },
    {
      "cell_type": "code",
      "execution_count": 6,
      "metadata": {
        "colab": {
          "base_uri": "https://localhost:8080/"
        },
        "id": "_Go4GnotoQAX",
        "outputId": "60606e00-1d19-407c-99ae-25f415e9cb59"
      },
      "outputs": [
        {
          "output_type": "stream",
          "name": "stdout",
          "text": [
            "Year: 2000\n",
            "Month: 1\n",
            "Day: 1\n",
            "Currency Rates:\n",
            "GBP (USD): 1.6158919092810036\n",
            "EUR (USD): 1.0046\n",
            "USD (EUR): 0.9954210631096955\n",
            "USD (GBP): 0.6188532749352977\n",
            "GBP (EUR): 1.608492842206852\n",
            "EUR (GBP): 0.6217\n"
          ]
        }
      ],
      "source": [
        "from datetime import datetime\n",
        "from forex_python.converter import get_rate\n",
        "\n",
        "def currency():\n",
        "  \n",
        "  x = int(input(\"Year: \"))\n",
        "  y = int(input(\"Month: \"))\n",
        "  z = int(input(\"Day: \"))\n",
        "  t = datetime(x, y, z)\n",
        "  \n",
        "  print(\"Currency Rates:\")\n",
        "\n",
        "  print(\"GBP (USD):\", get_rate(\"GBP\", \"USD\", t))\n",
        "  print(\"EUR (USD):\", get_rate(\"EUR\", \"USD\", t))\n",
        "  \n",
        "  print(\"USD (EUR):\", get_rate(\"USD\", \"EUR\", t))\n",
        "  print(\"USD (GBP):\", get_rate(\"USD\", \"GBP\", t))\n",
        "  \n",
        "  print(\"GBP (EUR):\", get_rate(\"GBP\", \"EUR\", t))\n",
        "  print(\"EUR (GBP):\", get_rate(\"EUR\", \"GBP\", t))\n",
        "  \n",
        "\n",
        "if __name__ == \"__main__\":\n",
        "  currency()"
      ]
    }
  ]
}